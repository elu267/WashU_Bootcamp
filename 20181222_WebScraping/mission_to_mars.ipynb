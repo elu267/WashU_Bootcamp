{
 "cells": [
  {
   "cell_type": "markdown",
   "metadata": {},
   "source": [
    "# Mission to Mars"
   ]
  },
  {
   "cell_type": "markdown",
   "metadata": {},
   "source": [
    "## Step 1 - Scraping\n",
    "\n",
    "### Importing dependencies"
   ]
  },
  {
   "cell_type": "code",
   "execution_count": 1,
   "metadata": {},
   "outputs": [],
   "source": [
    "# Importing dependencies\n",
    "from bs4 import BeautifulSoup as bs\n",
    "from splinter import Browser\n",
    "import pandas as pd\n",
    "import requests\n",
    "import time"
   ]
  },
  {
   "cell_type": "markdown",
   "metadata": {},
   "source": [
    "### NASA Mars News\n",
    "* Scrape NASA mars News site and collect the latest News Title and Paragraph Text"
   ]
  },
  {
   "cell_type": "code",
   "execution_count": 2,
   "metadata": {},
   "outputs": [],
   "source": [
    "# base url for the website that will be scraped\n",
    "base_url = 'https://mars.nasa.gov'\n",
    "# news url that contains the latest News Title and Paragraph text\n",
    "news_url = 'https://mars.nasa.gov/news/'\n",
    "\n"
   ]
  },
  {
   "cell_type": "code",
   "execution_count": 3,
   "metadata": {},
   "outputs": [],
   "source": [
    "# setting up the path for the Chrome driver\n",
    "executable_path = {'executable_path': '/usr/local/bin/chromedriver'}\n",
    "# using splinter browser to execute through Chrome\n",
    "browser = Browser('chrome', **executable_path, headless=False)"
   ]
  },
  {
   "cell_type": "code",
   "execution_count": 4,
   "metadata": {},
   "outputs": [],
   "source": [
    "# executing the visit to the website\n",
    "browser.visit(news_url)\n",
    "# creating a variable to hold the results of the source html\n",
    "news_html = browser.html\n",
    "# parsing through the html\n",
    "news_soup = bs(news_html, 'html.parser')\n",
    "# print(news_soup.prettify())"
   ]
  },
  {
   "cell_type": "code",
   "execution_count": 5,
   "metadata": {},
   "outputs": [
    {
     "name": "stdout",
     "output_type": "stream",
     "text": [
      "Mars InSight Lander Seen in First Images from Space \n"
     ]
    }
   ],
   "source": [
    "# variable to hold the first news story title\n",
    "news_title = news_soup.find('div',class_='bottom_gradient').text\n",
    "print(news_title)"
   ]
  },
  {
   "cell_type": "code",
   "execution_count": 6,
   "metadata": {},
   "outputs": [
    {
     "name": "stdout",
     "output_type": "stream",
     "text": [
      "/news/8400/mars-insight-lander-seen-in-first-images-from-space/\n"
     ]
    }
   ],
   "source": [
    "# variable to hold the url extension for the latest news title which when added to the base url\n",
    "# will provide the navigation to the first news title content\n",
    "news_p_url = news_soup.find('div', class_='image_and_description_container').find_all('a', href=True)[0]['href']\n",
    "print(news_p_url)"
   ]
  },
  {
   "cell_type": "code",
   "execution_count": 7,
   "metadata": {},
   "outputs": [
    {
     "name": "stdout",
     "output_type": "stream",
     "text": [
      "https://mars.nasa.gov/news/8400/mars-insight-lander-seen-in-first-images-from-space/\n"
     ]
    }
   ],
   "source": [
    "# variable to produce the link needed to get to the content of the latest news\n",
    "p_url = base_url + news_p_url\n",
    "print(p_url)"
   ]
  },
  {
   "cell_type": "code",
   "execution_count": 8,
   "metadata": {},
   "outputs": [],
   "source": [
    "# visiting the p_url in order to obtain the paragraph text\n",
    "browser.visit(p_url)\n",
    "# creating a variable to hold the results of the source html\n",
    "p_html = browser.html\n",
    "# parsing through the html\n",
    "p_soup = bs(p_html, 'html.parser')\n",
    "# print(p_soup.prettify())"
   ]
  },
  {
   "cell_type": "code",
   "execution_count": 9,
   "metadata": {},
   "outputs": [
    {
     "name": "stdout",
     "output_type": "stream",
     "text": [
      "On Nov. 26, NASA's InSight mission knew the spacecraft touched down within an 81-mile-long (130-kilometer-long) landing ellipse on Mars. Now, the team has pinpointed InSight's exact location using images from HiRISE, a powerful camera onboard another NASA spacecraft, Mars Reconnaissance Orbiter (MRO).\n"
     ]
    }
   ],
   "source": [
    "# variable to hold the paragraph text\n",
    "news_p = p_soup.find_all('p')[1].text\n",
    "print(news_p)"
   ]
  },
  {
   "cell_type": "markdown",
   "metadata": {},
   "source": [
    "### JPL Mars Space Images\n",
    "* Visiting the JPL url\n",
    "* Using splinter to navigate the site and find the image url for the current Featured Mars Image\n",
    "* Save a complete URL string"
   ]
  },
  {
   "cell_type": "code",
   "execution_count": 10,
   "metadata": {},
   "outputs": [],
   "source": [
    "# setting up the path for the Chrome driver\n",
    "executable_path = {'executable_path': '/usr/local/bin/chromedriver'}\n",
    "# using splinter browser to execute through Chrome\n",
    "browser = Browser('chrome', **executable_path, headless=False)"
   ]
  },
  {
   "cell_type": "code",
   "execution_count": 11,
   "metadata": {},
   "outputs": [],
   "source": [
    "# variable to hold the base url\n",
    "jpl_base_url = 'https://www.jpl.nasa.gov'\n",
    "# variable to hold url to scrape\n",
    "jpl_url = 'https://www.jpl.nasa.gov/spaceimages/?search=&category=Mars'\n",
    "#visit the jpl_url\n",
    "browser.visit(jpl_url)"
   ]
  },
  {
   "cell_type": "code",
   "execution_count": 12,
   "metadata": {},
   "outputs": [
    {
     "name": "stdout",
     "output_type": "stream",
     "text": [
      "<article alt=\"Voyager 1 Entering Interstellar Space (Artist Concept)\" class=\"carousel_item\" style=\"background-image: url('/spaceimages/images/wallpaper/PIA17462-1920x1200.jpg');\">\n",
      "<div class=\"default floating_text_area ms-layer\">\n",
      "<h2 class=\"category_title\">\n",
      "</h2>\n",
      "<h2 class=\"brand_title\">\n",
      "\t\t\t\t  FEATURED IMAGE\n",
      "\t\t\t\t</h2>\n",
      "<h1 class=\"media_feature_title\">\n",
      "\t\t\t\t  Voyager 1 Entering Interstellar Space (Artist Concept)\t\t\t\t</h1>\n",
      "<div class=\"description\">\n",
      "</div>\n",
      "<footer>\n",
      "<a class=\"button fancybox\" data-description=\"This artist's concept depicts NASA's Voyager 1 spacecraft entering interstellar space. \" data-fancybox-group=\"images\" data-fancybox-href=\"/spaceimages/images/mediumsize/PIA17462_ip.jpg\" data-link=\"/spaceimages/details.php?id=PIA17462\" data-title=\"Voyager 1 Entering Interstellar Space (Artist Concept)\" id=\"full_image\">\n",
      "\t\t\t\t\tFULL IMAGE\n",
      "\t\t\t\t  </a>\n",
      "</footer>\n",
      "</div>\n",
      "<div class=\"gradient_container_top\"></div>\n",
      "<div class=\"gradient_container_bottom\"></div>\n",
      "</article>\n"
     ]
    }
   ],
   "source": [
    "# creating a variable to hold the results of the source html\n",
    "jpl_html = browser.html\n",
    "# parsing the html source code\n",
    "jpl_soup = bs(jpl_html, 'html.parser')\n",
    "# variable to hold image url    \n",
    "images = jpl_soup.find('div', class_='carousel_items').find('article')\n",
    "print(images)  \n",
    "# not exactly what I wanted"
   ]
  },
  {
   "cell_type": "code",
   "execution_count": 13,
   "metadata": {},
   "outputs": [
    {
     "name": "stdout",
     "output_type": "stream",
     "text": [
      "background-image: url('/spaceimages/images/wallpaper/PIA17462-1920x1200.jpg');\n"
     ]
    }
   ],
   "source": [
    "# editing code to get the image url\n",
    "images = jpl_soup.find('div', class_='carousel_items').find('article')['style']\n",
    "print(images) \n",
    "# still not exactly what I wanted"
   ]
  },
  {
   "cell_type": "code",
   "execution_count": 14,
   "metadata": {},
   "outputs": [],
   "source": [
    "# removing -- stripping -- the leading text\n",
    "images = images.strip(\"background-image: url(';\")"
   ]
  },
  {
   "cell_type": "code",
   "execution_count": 15,
   "metadata": {},
   "outputs": [
    {
     "name": "stdout",
     "output_type": "stream",
     "text": [
      "/spaceimages/images/wallpaper/PIA17462-1920x1200.jpg\n"
     ]
    }
   ],
   "source": [
    "# removing -- stripping -- the trailing text\n",
    "images = images.strip(\"')\")\n",
    "print(images)\n",
    "# got it, this is what I wanted"
   ]
  },
  {
   "cell_type": "code",
   "execution_count": 16,
   "metadata": {},
   "outputs": [
    {
     "name": "stdout",
     "output_type": "stream",
     "text": [
      "https://www.jpl.nasa.gov/spaceimages/images/wallpaper/PIA17462-1920x1200.jpg\n"
     ]
    }
   ],
   "source": [
    "# variable to hold the complete url string\n",
    "featured_image_url = jpl_base_url + images\n",
    "print(featured_image_url)"
   ]
  },
  {
   "cell_type": "markdown",
   "metadata": {},
   "source": [
    "### Mars Weather\n",
    "* Visit to Mars Weather twitter account to scrape the latest Mars weather tweet"
   ]
  },
  {
   "cell_type": "code",
   "execution_count": 17,
   "metadata": {},
   "outputs": [],
   "source": [
    "tweet_url = 'https://twitter.com/marswxreport?lang=en'\n",
    "tweetRequest = requests.get(tweet_url)\n",
    "tweet_soup = bs(tweetRequest.text, 'html.parser')\n",
    "# print(tweet_soup)"
   ]
  },
  {
   "cell_type": "code",
   "execution_count": 18,
   "metadata": {},
   "outputs": [
    {
     "name": "stdout",
     "output_type": "stream",
     "text": [
      "\n",
      "Sol 2258 (2018-12-13), high -6C/21F, low -70C/-93F, pressure at 8.41 hPa, daylight 06:37-18:51\n",
      "\n"
     ]
    }
   ],
   "source": [
    "mars_weather = tweet_soup.find('div', class_='js-tweet-text-container').text\n",
    "print(mars_weather)"
   ]
  },
  {
   "cell_type": "markdown",
   "metadata": {},
   "source": [
    "### Mars Facts\n",
    "* Visit to the Mars Facts webpage and using Pandas to scrape the table containing facts about the planet\n",
    "* Using Pandas to convert the data to a HTML table string"
   ]
  },
  {
   "cell_type": "code",
   "execution_count": 19,
   "metadata": {},
   "outputs": [],
   "source": [
    "# variable to hold the url\n",
    "facts_url = 'http://space-facts.com/mars/'"
   ]
  },
  {
   "cell_type": "code",
   "execution_count": 20,
   "metadata": {},
   "outputs": [
    {
     "data": {
      "text/plain": [
       "[                      0                              1\n",
       " 0  Equatorial Diameter:                       6,792 km\n",
       " 1       Polar Diameter:                       6,752 km\n",
       " 2                 Mass:  6.42 x 10^23 kg (10.7% Earth)\n",
       " 3                Moons:            2 (Phobos & Deimos)\n",
       " 4       Orbit Distance:       227,943,824 km (1.52 AU)\n",
       " 5         Orbit Period:           687 days (1.9 years)\n",
       " 6  Surface Temperature:                  -153 to 20 °C\n",
       " 7         First Record:              2nd millennium BC\n",
       " 8          Recorded By:           Egyptian astronomers]"
      ]
     },
     "execution_count": 20,
     "metadata": {},
     "output_type": "execute_result"
    }
   ],
   "source": [
    "# using pandas to read the html from the url and storing table into a variable\n",
    "tables = pd.read_html(facts_url)\n",
    "tables"
   ]
  },
  {
   "cell_type": "code",
   "execution_count": 21,
   "metadata": {},
   "outputs": [
    {
     "data": {
      "text/plain": [
       "list"
      ]
     },
     "execution_count": 21,
     "metadata": {},
     "output_type": "execute_result"
    }
   ],
   "source": [
    "# checking the type\n",
    "type(tables)"
   ]
  },
  {
   "cell_type": "code",
   "execution_count": 22,
   "metadata": {},
   "outputs": [
    {
     "data": {
      "text/html": [
       "<div>\n",
       "<style scoped>\n",
       "    .dataframe tbody tr th:only-of-type {\n",
       "        vertical-align: middle;\n",
       "    }\n",
       "\n",
       "    .dataframe tbody tr th {\n",
       "        vertical-align: top;\n",
       "    }\n",
       "\n",
       "    .dataframe thead th {\n",
       "        text-align: right;\n",
       "    }\n",
       "</style>\n",
       "<table border=\"1\" class=\"dataframe\">\n",
       "  <thead>\n",
       "    <tr style=\"text-align: right;\">\n",
       "      <th></th>\n",
       "      <th>Facts</th>\n",
       "    </tr>\n",
       "    <tr>\n",
       "      <th>Profile Description</th>\n",
       "      <th></th>\n",
       "    </tr>\n",
       "  </thead>\n",
       "  <tbody>\n",
       "    <tr>\n",
       "      <th>Equatorial Diameter:</th>\n",
       "      <td>6,792 km</td>\n",
       "    </tr>\n",
       "    <tr>\n",
       "      <th>Polar Diameter:</th>\n",
       "      <td>6,752 km</td>\n",
       "    </tr>\n",
       "    <tr>\n",
       "      <th>Mass:</th>\n",
       "      <td>6.42 x 10^23 kg (10.7% Earth)</td>\n",
       "    </tr>\n",
       "    <tr>\n",
       "      <th>Moons:</th>\n",
       "      <td>2 (Phobos &amp; Deimos)</td>\n",
       "    </tr>\n",
       "    <tr>\n",
       "      <th>Orbit Distance:</th>\n",
       "      <td>227,943,824 km (1.52 AU)</td>\n",
       "    </tr>\n",
       "    <tr>\n",
       "      <th>Orbit Period:</th>\n",
       "      <td>687 days (1.9 years)</td>\n",
       "    </tr>\n",
       "    <tr>\n",
       "      <th>Surface Temperature:</th>\n",
       "      <td>-153 to 20 °C</td>\n",
       "    </tr>\n",
       "    <tr>\n",
       "      <th>First Record:</th>\n",
       "      <td>2nd millennium BC</td>\n",
       "    </tr>\n",
       "    <tr>\n",
       "      <th>Recorded By:</th>\n",
       "      <td>Egyptian astronomers</td>\n",
       "    </tr>\n",
       "  </tbody>\n",
       "</table>\n",
       "</div>"
      ],
      "text/plain": [
       "                                              Facts\n",
       "Profile Description                                \n",
       "Equatorial Diameter:                       6,792 km\n",
       "Polar Diameter:                            6,752 km\n",
       "Mass:                 6.42 x 10^23 kg (10.7% Earth)\n",
       "Moons:                          2 (Phobos & Deimos)\n",
       "Orbit Distance:            227,943,824 km (1.52 AU)\n",
       "Orbit Period:                  687 days (1.9 years)\n",
       "Surface Temperature:                  -153 to 20 °C\n",
       "First Record:                     2nd millennium BC\n",
       "Recorded By:                   Egyptian astronomers"
      ]
     },
     "execution_count": 22,
     "metadata": {},
     "output_type": "execute_result"
    }
   ],
   "source": [
    "# converting the list to a dataframe by selecting the first (and only in this case) table from the list\n",
    "df = tables[0]\n",
    "# adding column descriptions\n",
    "df.columns = ['Profile Description','Facts' ]\n",
    "# removing the first row -- cleanup\n",
    "df = df.iloc[0:]\n",
    "# setting the description as the index\n",
    "df.set_index('Profile Description', inplace=True)\n",
    "df"
   ]
  },
  {
   "cell_type": "code",
   "execution_count": 23,
   "metadata": {},
   "outputs": [
    {
     "data": {
      "text/plain": [
       "'<table border=\"1\" class=\"dataframe\">\\n  <thead>\\n    <tr style=\"text-align: right;\">\\n      <th></th>\\n      <th>Facts</th>\\n    </tr>\\n    <tr>\\n      <th>Profile Description</th>\\n      <th></th>\\n    </tr>\\n  </thead>\\n  <tbody>\\n    <tr>\\n      <th>Equatorial Diameter:</th>\\n      <td>6,792 km</td>\\n    </tr>\\n    <tr>\\n      <th>Polar Diameter:</th>\\n      <td>6,752 km</td>\\n    </tr>\\n    <tr>\\n      <th>Mass:</th>\\n      <td>6.42 x 10^23 kg (10.7% Earth)</td>\\n    </tr>\\n    <tr>\\n      <th>Moons:</th>\\n      <td>2 (Phobos &amp; Deimos)</td>\\n    </tr>\\n    <tr>\\n      <th>Orbit Distance:</th>\\n      <td>227,943,824 km (1.52 AU)</td>\\n    </tr>\\n    <tr>\\n      <th>Orbit Period:</th>\\n      <td>687 days (1.9 years)</td>\\n    </tr>\\n    <tr>\\n      <th>Surface Temperature:</th>\\n      <td>-153 to 20 °C</td>\\n    </tr>\\n    <tr>\\n      <th>First Record:</th>\\n      <td>2nd millennium BC</td>\\n    </tr>\\n    <tr>\\n      <th>Recorded By:</th>\\n      <td>Egyptian astronomers</td>\\n    </tr>\\n  </tbody>\\n</table>'"
      ]
     },
     "execution_count": 23,
     "metadata": {},
     "output_type": "execute_result"
    }
   ],
   "source": [
    "# using the Pandas 'to_html' method to generate HTML table from the existing dataframe\n",
    "html_table = df.to_html()\n",
    "html_table\n"
   ]
  },
  {
   "cell_type": "markdown",
   "metadata": {},
   "source": [
    "### Mars Hemispheres\n",
    "* Vising the USGS Astrogeology site to obtain high resolution images for each of Mar's hemispheres\n",
    "* Going to each hemisphere's link to find the image url to the full resolution image\n",
    "* Saving both the image url string and the Hemisphere title \n",
    "* Using a Python dictionary and appending the title and image url"
   ]
  },
  {
   "cell_type": "code",
   "execution_count": 24,
   "metadata": {},
   "outputs": [],
   "source": [
    "# setting up the path for the Chrome driver\n",
    "executable_path = {'executable_path': '/usr/local/bin/chromedriver'}\n",
    "# using splinter browser to execute through Chrome\n",
    "browser = Browser('chrome', **executable_path, headless=False)\n",
    "# variable to hold base url for Mars Hemispheres information\n",
    "mh_base_url = 'https://astrogeology.usgs.gov'\n",
    "# variable to hold url with Mars Hemispheres information\n",
    "mh_url = 'https://astrogeology.usgs.gov/search/results?q=hemisphere+enhanced&k1=target&v1=Mars'\n",
    "# engaging with chrome browser\n",
    "browser.visit(mh_url)"
   ]
  },
  {
   "cell_type": "code",
   "execution_count": 25,
   "metadata": {},
   "outputs": [
    {
     "name": "stdout",
     "output_type": "stream",
     "text": [
      "4\n"
     ]
    }
   ],
   "source": [
    "# creating an html object\n",
    "mh_html = browser.html\n",
    "# parse the html using Beautiful Soup\n",
    "mh_soup = bs(mh_html, 'html.parser')\n",
    "# retrieve each link to the hemispheres info\n",
    "hemispheres = mh_soup.find_all('div', class_='description')#[1].find('a', href=True)['href']\n",
    "print(len(hemispheres))"
   ]
  },
  {
   "cell_type": "code",
   "execution_count": 26,
   "metadata": {},
   "outputs": [
    {
     "name": "stdout",
     "output_type": "stream",
     "text": [
      "[{'title': 'Cerberus Hemisphere Enhanced', 'img_url': 'http://astropedia.astrogeology.usgs.gov/download/Mars/Viking/cerberus_enhanced.tif'}, {'title': 'Schiaparelli Hemisphere Enhanced', 'img_url': 'http://astropedia.astrogeology.usgs.gov/download/Mars/Viking/schiaparelli_enhanced.tif'}, {'title': 'Syrtis Major Hemisphere Enhanced', 'img_url': 'http://astropedia.astrogeology.usgs.gov/download/Mars/Viking/syrtis_major_enhanced.tif'}, {'title': 'Valles Marineris Hemisphere Enhanced', 'img_url': 'http://astropedia.astrogeology.usgs.gov/download/Mars/Viking/valles_marineris_enhanced.tif'}]\n"
     ]
    }
   ],
   "source": [
    "hemisphere_image_urls = []\n",
    "\n",
    "for item in hemispheres:\n",
    "    # retrieving the href\n",
    "    mh_href = item.find('a', href=True)['href']\n",
    "    \n",
    "    # combining the piece to make a full url path\n",
    "    full_url = mh_base_url + mh_href\n",
    "    \n",
    "    # going to website\n",
    "    browser.visit(full_url)\n",
    "    \n",
    "    # takes the html source code and puts it into a variable\n",
    "    mh_href_html = browser.html\n",
    "    \n",
    "    # parse the html using Beautiful Soup\n",
    "    mh_soup_links = bs(mh_href_html, 'html.parser')\n",
    "    \n",
    "    # ffs, we are finally retrieving something\n",
    "    # retrieving the title\n",
    "    mh_href_title = mh_soup_links.find('h2', class_=\"title\").text\n",
    "    \n",
    "    # retrieving the second a tag / href image link\n",
    "    mh_href_img = mh_soup_links.find_all('div', class_='downloads')\n",
    "    for img in mh_href_img:\n",
    "        img_url = img.find_all('a', href=True)[1]['href']\n",
    "  \n",
    "        \n",
    "    # append the title and image link to the list of dictionaries\n",
    "    hemisphere_image_urls.append({'title': mh_href_title, 'img_url': img_url})\n",
    "\n",
    "print(hemisphere_image_urls)  \n",
    "    \n"
   ]
  },
  {
   "cell_type": "markdown",
   "metadata": {},
   "source": [
    "## Step 2 - MongoDB and Flask Application\n",
    "\n",
    "### Using MongoDB with Flask to create a new HTML page\n",
    "* Convert the Jupyter Notebook into a Python script\n",
    "* Create a route called /scrape\n",
    "* Create a root route\n",
    "* Create a template HTML file\n",
    "\n",
    "See scrape_mars.py, mars_app.py and index.html for results"
   ]
  }
 ],
 "metadata": {
  "kernelspec": {
   "display_name": "Python [conda env:PythonData]",
   "language": "python",
   "name": "conda-env-PythonData-py"
  },
  "language_info": {
   "codemirror_mode": {
    "name": "ipython",
    "version": 3
   },
   "file_extension": ".py",
   "mimetype": "text/x-python",
   "name": "python",
   "nbconvert_exporter": "python",
   "pygments_lexer": "ipython3",
   "version": "3.6.6"
  }
 },
 "nbformat": 4,
 "nbformat_minor": 2
}
