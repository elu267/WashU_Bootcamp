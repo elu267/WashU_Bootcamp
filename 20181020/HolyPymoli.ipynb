{
 "cells": [
  {
   "cell_type": "code",
   "execution_count": null,
   "metadata": {},
   "outputs": [],
   "source": [
    "# pull in the necessary libraries\n",
    "import pandas as pd\n",
    "import numpy as np"
   ]
  },
  {
   "cell_type": "code",
   "execution_count": null,
   "metadata": {},
   "outputs": [],
   "source": [
    "# create a variable to hold the contents of the file\n",
    "initialFile = 'purchase_data.csv'\n",
    "readFile = pd.read_csv(initialFile, encoding = 'utf-8')\n",
    "init_df = pd.DataFrame(readFile)"
   ]
  },
  {
   "cell_type": "markdown",
   "metadata": {},
   "source": [
    "# Player Count"
   ]
  },
  {
   "cell_type": "code",
   "execution_count": null,
   "metadata": {},
   "outputs": [],
   "source": [
    "# count the number of unique players\n",
    "playerCnt = len(init_df['SN'].unique())\n",
    "summCnt = pd.DataFrame({'Total Players': [playerCnt]})\n",
    "summCnt"
   ]
  },
  {
   "cell_type": "markdown",
   "metadata": {},
   "source": [
    "# Purchasing Analysis (Total)"
   ]
  },
  {
   "cell_type": "code",
   "execution_count": null,
   "metadata": {},
   "outputs": [],
   "source": [
    "# count the number of unique items\n",
    "itemCnt = len(init_df['Item ID'].unique())\n",
    "\n",
    "# calculate the average price\n",
    "avgPrice = round(init_df['Price'].mean(),2)\n",
    "\n",
    "# calculate the number of purchases\n",
    "purchases = init_df['Item Name'].count()\n",
    "\n",
    "# calculate total revenue (gross revenue)\n",
    "revenue = init_df['Price'].sum()\n",
    "\n",
    "# create the summary data frame for the analysis \n",
    "sumPurch_df = pd.DataFrame({'Number of Unique Items': [itemCnt], 'Average Price': [avgPrice], \\\n",
    "                            'Number of Purchases': [purchases], 'Total Revenue': [revenue]})\n",
    "\n",
    "# formatting the average price and total revenue to currency format\n",
    "sumPurch_df['Average Price'] = sumPurch_df['Average Price'].map(\"${:,.2f}\".format)\n",
    "sumPurch_df['Total Revenue'] = sumPurch_df['Total Revenue'].map(\"${:,.2f}\".format)\n",
    "sumPurch_df"
   ]
  },
  {
   "cell_type": "markdown",
   "metadata": {},
   "source": [
    "# Gender Demographics"
   ]
  },
  {
   "cell_type": "code",
   "execution_count": null,
   "metadata": {},
   "outputs": [],
   "source": [
    "genderCnt = init_df.groupby('Gender').SN.nunique()\n",
    "summGender = pd.DataFrame(genderCnt)\n",
    "summRename = summGender.rename(columns={'SN': 'Total Count'})\n",
    "summRename.head()\n",
    "\n",
    "# percentage and count of female players\n",
    "summRename['Percentage of Players'] = summRename['Total Count']/summRename['Total Count'].sum() * 100\n",
    "summRename['Percentage of Players'] = summRename['Percentage of Players'].map(\"{:.2f}\".format)\n",
    "summRename.head()"
   ]
  },
  {
   "cell_type": "markdown",
   "metadata": {},
   "source": [
    "# Purchasing Analysis (Gender)"
   ]
  },
  {
   "cell_type": "code",
   "execution_count": null,
   "metadata": {},
   "outputs": [],
   "source": [
    "#Purchase Count\n",
    "purCnt = init_df.groupby(['Gender']) ['SN'].count()\n",
    "\n",
    "#Average Purchase Price\n",
    "avgPP = init_df.groupby(['Gender']) ['Price'].mean().head()\n",
    "\n",
    "#Total Purchase Value\n",
    "totPV = init_df.groupby(['Gender']) ['Price'].sum().head()\n",
    "\n",
    "#Average Total Purchase per Person\n",
    "avgTPP = init_df.groupby(['Gender']) ['Price'].sum() / init_df.groupby('Gender').SN.nunique()\n",
    "\n",
    "#Purchasing Analysis (Gender) Summary\n",
    "\n",
    "summPAG = pd.DataFrame({'Purchase Count': purCnt, 'Average Purchase Price': avgPP, 'Total Purchase Value': totPV, \\\n",
    "                       'Avg Total Purchase per Person': avgTPP})\n",
    "summPAG['Average Purchase Price'] = summPAG['Average Purchase Price'].map(\"${:,.2f}\".format)\n",
    "summPAG['Total Purchase Value'] = summPAG['Total Purchase Value'].map(\"${:,.2f}\".format)\n",
    "summPAG['Avg Total Purchase per Person'] = summPAG['Avg Total Purchase per Person'].map(\"${:,.2f}\".format)\n",
    "summPAG.head()"
   ]
  },
  {
   "cell_type": "markdown",
   "metadata": {},
   "source": [
    "# Age Demographics"
   ]
  },
  {
   "cell_type": "code",
   "execution_count": null,
   "metadata": {},
   "outputs": [],
   "source": [
    "# Establish bins for ages\n",
    "ageBins = [0, 9, 14, 19, 24, 29, 34, 39, 150]\n",
    "ageRange = ['<10','10-14','15-19','20-24','25-29','30-34','35-39','40+']\n",
    "\n",
    "# Categorize the existing players using the age bins (Hint: use pd.cut())\n",
    "init_df['Age Range'] = pd.cut(init_df['Age'], ageBins, labels=ageRange)\n",
    "ageDemo = init_df\n",
    "\n",
    "# grouping the data by age rante and storing in a data frame\n",
    "ageGroup = ageDemo.groupby('Age Range').SN.nunique()\n",
    "summAge = pd.DataFrame(ageGroup)\n",
    "\n",
    "# renaming column to match the homework\n",
    "summAgeRN = summAge.rename(columns={'SN': 'Total Count'})\n",
    "\n",
    "# calculating the percentage of players\n",
    "summAgeRN['Percentage of Players'] = summAgeRN['Total Count']/summAgeRN['Total Count'].sum() * 100\n",
    "\n",
    "# formatting the percentage to two decimal places\n",
    "summAgeRN['Percentage of Players'] = summAgeRN['Percentage of Players'].map(\"{:.2f}\".format)\n",
    "\n",
    "summAgeRN.head(8)"
   ]
  },
  {
   "cell_type": "markdown",
   "metadata": {},
   "source": [
    "# Purchasing Analysis (Age)"
   ]
  },
  {
   "cell_type": "code",
   "execution_count": null,
   "metadata": {},
   "outputs": [],
   "source": [
    "# setting up initial data frame so as not to overwrite\n",
    "agePurch = init_df\n",
    "\n",
    "# setting up the groupings by age range for the data frame\n",
    "grpPurch = agePurch.groupby('Age Range').SN.count()\n",
    "\n",
    "# created the data frame using the groupings\n",
    "summPA = pd.DataFrame(grpPurch)\n",
    "\n",
    "# calculations \n",
    "#Purchase Count\n",
    "purCnt2= agePurch.groupby(['Age Range']) ['SN'].count()\n",
    "\n",
    "# Average Purchase Price\n",
    "avgPP2 = agePurch.groupby(['Age Range']) ['Price'].mean()\n",
    "\n",
    "# Total Purchase Value\n",
    "totPV2 = agePurch.groupby(['Age Range']) ['Price'].sum()\n",
    "\n",
    "# Average Total Purchase per Person\n",
    "avgTPP2 = agePurch.groupby(['Age Range']) ['Price'].sum() / agePurch.groupby('Age Range').SN.nunique()\n",
    "\n",
    "# Summary\n",
    "summPA_rn = pd.DataFrame({'Purchase Count': purCnt2, 'Average Purchase Price': avgPP2, 'Total Purchase Value': totPV2, \\\n",
    "'Avg Total Purchase per Person': avgTPP2})\n",
    "\n",
    "# Formatting\n",
    "summPA_rn['Average Purchase Price'] = summPA_rn['Average Purchase Price'].map(\"${:,.2f}\".format)\n",
    "summPA_rn['Total Purchase Value'] = summPA_rn['Total Purchase Value'].map(\"${:,.2f}\".format)\n",
    "summPA_rn['Avg Total Purchase per Person'] = summPA_rn['Avg Total Purchase per Person'].map(\"${:,.2f}\".format)\n",
    "\n",
    "# viewing\n",
    "summPA_rn.head(8)"
   ]
  },
  {
   "cell_type": "markdown",
   "metadata": {},
   "source": [
    "# Top Spenders"
   ]
  },
  {
   "cell_type": "code",
   "execution_count": null,
   "metadata": {},
   "outputs": [],
   "source": [
    "# creating new data frame so as not to overwrite original\n",
    "topSpend = init_df\n",
    "\n",
    "# calculations\n",
    "\n",
    "# purchase counts\n",
    "purCnt3 = topSpend.groupby(['SN']) ['SN'].count()\n",
    "\n",
    "# average purchase price\n",
    "avgPP3 = topSpend.groupby(['SN']) ['Price'].mean()\n",
    "\n",
    "# total purchase value\n",
    "totPV3 = topSpend.groupby(['SN']) ['Price'].sum()\n",
    "\n",
    "# summary data frame\n",
    "summSpend = pd.DataFrame({'Purchase Count': purCnt3, 'Average Purchase Price': avgPP3, 'Total Purchase Value': totPV3})\n",
    "\n",
    "# sorting\n",
    "summSpend.sort_values(by=['Total Purchase Value'], inplace=True, ascending=False)\n",
    "\n",
    "# formatting\n",
    "summSpend['Average Purchase Price'] = summSpend['Average Purchase Price'].map(\"${:,.2f}\".format)\n",
    "summSpend['Total Purchase Value'] = summSpend['Total Purchase Value'].map(\"${:,.2f}\".format)\n",
    "\n",
    "# viewing\n",
    "summSpend.head()"
   ]
  },
  {
   "cell_type": "markdown",
   "metadata": {},
   "source": [
    "# Most Popular Items"
   ]
  },
  {
   "cell_type": "code",
   "execution_count": null,
   "metadata": {},
   "outputs": [],
   "source": [
    "# creating new data frame so as not to overwrite the original\n",
    "popItems = init_df\n",
    "\n",
    "# calculations\n",
    "\n",
    "# purchase count - geez, I know there must be a better way to calculate these once and call them in - too tired\n",
    "purCnt4 = popItems.groupby(['Item ID', 'Item Name']) ['SN'].count()\n",
    "\n",
    "# item price -- not working -- need to figure out why\n",
    "itemPrice = popItems.groupby(['Item ID', 'Item Name']) ['Price'].sum() / purCnt4\n",
    "\n",
    "# total purchase value\n",
    "totPV4 = popItems.groupby(['Item ID', 'Item Name']) ['Price'].sum()\n",
    "\n",
    "# summary data frame\n",
    "summPop = pd.DataFrame({'Purchase Count': purCnt4, 'Item Price': itemPrice, 'Total Purchase Value': totPV4})\n",
    "\n",
    "\n",
    "# sorting\n",
    "summPop.sort_values(by=['Purchase Count'], inplace=True, ascending=False)\n",
    "\n",
    "# formatting\n",
    "summPop['Total Purchase Value'] = summPop['Total Purchase Value'].map(\"${:,.2f}\".format)\n",
    "\n",
    "summPop.head()"
   ]
  },
  {
   "cell_type": "markdown",
   "metadata": {},
   "source": [
    "# Most Profitable Items"
   ]
  },
  {
   "cell_type": "code",
   "execution_count": null,
   "metadata": {},
   "outputs": [],
   "source": [
    "# for some godforsaken reason, I could not just create a new variable, change the sort from above and get it to work... why????\n",
    "# therefore, I just copied and pasted the above and changed all the variable names. Terrible solution but I am tired\n",
    "# of looking. \n",
    "\n",
    "# creating new data frame so as not to overwrite the original\n",
    "profItems = init_df\n",
    "\n",
    "# calculations\n",
    "\n",
    "# purchase count - geez, I know there must be a better way to calculate these once and call them in - too tired\n",
    "purCnt5 = profItems.groupby(['Item ID', 'Item Name']) ['SN'].count()\n",
    "\n",
    "# item price -- not working -- need to figure out why\n",
    "itemPrice2 = profItems.groupby(['Item ID', 'Item Name']) ['Price'].sum() / purCnt5\n",
    "\n",
    "# total purchase value\n",
    "totPV5 = profItems.groupby(['Item ID', 'Item Name']) ['Price'].sum()\n",
    "\n",
    "# summary data frame\n",
    "summProf = pd.DataFrame({'Purchase Count': purCnt5, 'Item Price': itemPrice2, 'Total Purchase Value': totPV5})\n",
    "\n",
    "\n",
    "# sorting\n",
    "summProf.sort_values(by=['Total Purchase Value'], inplace=True, ascending=False)\n",
    "\n",
    "# formatting\n",
    "summProf['Total Purchase Value'] = summProf['Total Purchase Value'].map(\"${:,.2f}\".format)\n",
    "\n",
    "summProf.head()"
   ]
  }
 ],
 "metadata": {
  "kernelspec": {
   "display_name": "Python 3",
   "language": "python",
   "name": "python3"
  },
  "language_info": {
   "codemirror_mode": {
    "name": "ipython",
    "version": 3
   },
   "file_extension": ".py",
   "mimetype": "text/x-python",
   "name": "python",
   "nbconvert_exporter": "python",
   "pygments_lexer": "ipython3",
   "version": "3.6.6"
  }
 },
 "nbformat": 4,
 "nbformat_minor": 2
}
